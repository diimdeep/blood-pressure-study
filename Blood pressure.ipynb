{
 "cells": [
  {
   "cell_type": "code",
   "execution_count": 3,
   "metadata": {},
   "outputs": [],
   "source": [
    "import time\n",
    "import datetime\n",
    "import logging\n",
    "import os.path\n",
    "import socket\n",
    "import json\n",
    "import sys\n",
    "import numpy as np\n",
    "import scipy as sc\n",
    "import pandas as pd\n",
    "import seaborn as sns\n",
    "import matplotlib\n",
    "import matplotlib.pyplot as plt\n",
    "import IPython.display as ipd\n",
    "\n",
    "# import librosa\n",
    "# import librosa.display\n",
    "\n",
    "%matplotlib inline\n",
    "\n",
    "# Set ipython's max row display\n",
    "pd.set_option('display.max_row', 15)\n",
    "\n",
    "# Set iPython's max column width to 50\n",
    "pd.set_option('display.max_columns', 15)"
   ]
  },
  {
   "cell_type": "code",
   "execution_count": 4,
   "metadata": {},
   "outputs": [],
   "source": [
    "%%bash\n",
    "#pip3 install -r requirements.txt"
   ]
  },
  {
   "cell_type": "code",
   "execution_count": 8,
   "metadata": {},
   "outputs": [],
   "source": [
    "PRESSSURE_PATH = \"data.csv\""
   ]
  },
  {
   "cell_type": "code",
   "execution_count": 9,
   "metadata": {},
   "outputs": [
    {
     "name": "stderr",
     "output_type": "stream",
     "text": [
      "/usr/local/lib/python3.7/site-packages/ipykernel_launcher.py:1: FutureWarning: from_csv is deprecated. Please use read_csv(...) instead. Note that some of the default arguments are different, so please refer to the documentation for from_csv when changing your function calls\n",
      "  \"\"\"Entry point for launching an IPython kernel.\n"
     ]
    }
   ],
   "source": [
    "df = pd.DataFrame.from_csv(PRESSSURE_PATH, sep=' ', index_col=None)"
   ]
  },
  {
   "cell_type": "code",
   "execution_count": 10,
   "metadata": {},
   "outputs": [],
   "source": [
    "df.datetime = pd.to_datetime(df.datetime, format='%Y-%m-%d-%H:%M')"
   ]
  },
  {
   "cell_type": "code",
   "execution_count": 24,
   "metadata": {},
   "outputs": [
    {
     "data": {
      "text/html": [
       "<div>\n",
       "<style scoped>\n",
       "    .dataframe tbody tr th:only-of-type {\n",
       "        vertical-align: middle;\n",
       "    }\n",
       "\n",
       "    .dataframe tbody tr th {\n",
       "        vertical-align: top;\n",
       "    }\n",
       "\n",
       "    .dataframe thead th {\n",
       "        text-align: right;\n",
       "    }\n",
       "</style>\n",
       "<table border=\"1\" class=\"dataframe\">\n",
       "  <thead>\n",
       "    <tr style=\"text-align: right;\">\n",
       "      <th></th>\n",
       "      <th>datetime</th>\n",
       "      <th>SYS</th>\n",
       "      <th>DIA</th>\n",
       "      <th>pulse</th>\n",
       "      <th>PP</th>\n",
       "    </tr>\n",
       "  </thead>\n",
       "  <tbody>\n",
       "    <tr>\n",
       "      <th>0</th>\n",
       "      <td>2018-04-29 08:57:00</td>\n",
       "      <td>136</td>\n",
       "      <td>92</td>\n",
       "      <td>87</td>\n",
       "      <td>44</td>\n",
       "    </tr>\n",
       "    <tr>\n",
       "      <th>1</th>\n",
       "      <td>2018-03-25 08:08:00</td>\n",
       "      <td>119</td>\n",
       "      <td>90</td>\n",
       "      <td>67</td>\n",
       "      <td>29</td>\n",
       "    </tr>\n",
       "    <tr>\n",
       "      <th>2</th>\n",
       "      <td>2018-03-25 08:08:00</td>\n",
       "      <td>126</td>\n",
       "      <td>93</td>\n",
       "      <td>66</td>\n",
       "      <td>33</td>\n",
       "    </tr>\n",
       "    <tr>\n",
       "      <th>3</th>\n",
       "      <td>2018-03-23 10:45:00</td>\n",
       "      <td>131</td>\n",
       "      <td>92</td>\n",
       "      <td>77</td>\n",
       "      <td>39</td>\n",
       "    </tr>\n",
       "    <tr>\n",
       "      <th>4</th>\n",
       "      <td>2018-03-21 11:45:00</td>\n",
       "      <td>123</td>\n",
       "      <td>92</td>\n",
       "      <td>73</td>\n",
       "      <td>31</td>\n",
       "    </tr>\n",
       "    <tr>\n",
       "      <th>5</th>\n",
       "      <td>2018-03-21 10:49:00</td>\n",
       "      <td>126</td>\n",
       "      <td>96</td>\n",
       "      <td>80</td>\n",
       "      <td>30</td>\n",
       "    </tr>\n",
       "    <tr>\n",
       "      <th>6</th>\n",
       "      <td>2018-03-21 08:55:00</td>\n",
       "      <td>117</td>\n",
       "      <td>89</td>\n",
       "      <td>75</td>\n",
       "      <td>28</td>\n",
       "    </tr>\n",
       "    <tr>\n",
       "      <th>...</th>\n",
       "      <td>...</td>\n",
       "      <td>...</td>\n",
       "      <td>...</td>\n",
       "      <td>...</td>\n",
       "      <td>...</td>\n",
       "    </tr>\n",
       "    <tr>\n",
       "      <th>52</th>\n",
       "      <td>2018-03-09 23:14:00</td>\n",
       "      <td>125</td>\n",
       "      <td>89</td>\n",
       "      <td>70</td>\n",
       "      <td>36</td>\n",
       "    </tr>\n",
       "    <tr>\n",
       "      <th>53</th>\n",
       "      <td>2018-03-09 23:13:00</td>\n",
       "      <td>126</td>\n",
       "      <td>89</td>\n",
       "      <td>69</td>\n",
       "      <td>37</td>\n",
       "    </tr>\n",
       "    <tr>\n",
       "      <th>54</th>\n",
       "      <td>2018-03-09 20:47:00</td>\n",
       "      <td>120</td>\n",
       "      <td>84</td>\n",
       "      <td>79</td>\n",
       "      <td>36</td>\n",
       "    </tr>\n",
       "    <tr>\n",
       "      <th>55</th>\n",
       "      <td>2018-03-09 20:47:00</td>\n",
       "      <td>124</td>\n",
       "      <td>82</td>\n",
       "      <td>80</td>\n",
       "      <td>42</td>\n",
       "    </tr>\n",
       "    <tr>\n",
       "      <th>56</th>\n",
       "      <td>2018-03-09 07:47:00</td>\n",
       "      <td>122</td>\n",
       "      <td>83</td>\n",
       "      <td>75</td>\n",
       "      <td>39</td>\n",
       "    </tr>\n",
       "    <tr>\n",
       "      <th>57</th>\n",
       "      <td>2018-03-08 18:40:00</td>\n",
       "      <td>115</td>\n",
       "      <td>80</td>\n",
       "      <td>78</td>\n",
       "      <td>35</td>\n",
       "    </tr>\n",
       "    <tr>\n",
       "      <th>58</th>\n",
       "      <td>2018-03-08 18:39:00</td>\n",
       "      <td>111</td>\n",
       "      <td>74</td>\n",
       "      <td>97</td>\n",
       "      <td>37</td>\n",
       "    </tr>\n",
       "  </tbody>\n",
       "</table>\n",
       "<p>59 rows × 5 columns</p>\n",
       "</div>"
      ],
      "text/plain": [
       "              datetime  SYS  DIA  pulse  PP\n",
       "0  2018-04-29 08:57:00  136   92     87  44\n",
       "1  2018-03-25 08:08:00  119   90     67  29\n",
       "2  2018-03-25 08:08:00  126   93     66  33\n",
       "3  2018-03-23 10:45:00  131   92     77  39\n",
       "4  2018-03-21 11:45:00  123   92     73  31\n",
       "5  2018-03-21 10:49:00  126   96     80  30\n",
       "6  2018-03-21 08:55:00  117   89     75  28\n",
       "..                 ...  ...  ...    ...  ..\n",
       "52 2018-03-09 23:14:00  125   89     70  36\n",
       "53 2018-03-09 23:13:00  126   89     69  37\n",
       "54 2018-03-09 20:47:00  120   84     79  36\n",
       "55 2018-03-09 20:47:00  124   82     80  42\n",
       "56 2018-03-09 07:47:00  122   83     75  39\n",
       "57 2018-03-08 18:40:00  115   80     78  35\n",
       "58 2018-03-08 18:39:00  111   74     97  37\n",
       "\n",
       "[59 rows x 5 columns]"
      ]
     },
     "execution_count": 24,
     "metadata": {},
     "output_type": "execute_result"
    }
   ],
   "source": [
    "dima_ = df[:-17]\n",
    "lida = df.tail(17)\n",
    "dima = dima_[dima_.datetime.notnull()]\n",
    "dima['PP'] = dima.SYS - dima.DIA\n",
    "#dima = dima.head(13)\n",
    "dima"
   ]
  },
  {
   "cell_type": "code",
   "execution_count": 25,
   "metadata": {},
   "outputs": [
    {
     "name": "stdout",
     "output_type": "stream",
     "text": [
      "                 SYS        DIA      pulse         PP\n",
      "datetime                                             \n",
      "7         122.300000  89.900000  68.300000  32.400000\n",
      "8         133.000000  91.555556  79.333333  41.444444\n",
      "9         129.000000  88.000000  85.000000  41.000000\n",
      "10        129.142857  89.714286  81.142857  39.428571\n",
      "11        134.666667  90.666667  76.000000  44.000000\n",
      "12        137.000000  86.500000  76.750000  50.500000\n",
      "13        131.750000  91.000000  82.250000  40.750000\n",
      "14        125.000000  86.000000  71.000000  39.000000\n",
      "15        136.666667  86.000000  84.333333  50.666667\n",
      "18        120.333333  83.666667  90.333333  36.666667\n",
      "19        124.000000  91.000000  80.000000  33.000000\n",
      "20        122.000000  83.000000  79.500000  39.000000\n",
      "21        132.333333  96.333333  82.000000  36.000000\n",
      "22        115.500000  86.000000  75.000000  29.500000\n",
      "23        125.500000  89.000000  69.500000  36.500000\n"
     ]
    },
    {
     "data": {
      "text/plain": [
       "<matplotlib.axes._subplots.AxesSubplot at 0x11d8241d0>"
      ]
     },
     "execution_count": 25,
     "metadata": {},
     "output_type": "execute_result"
    },
    {
     "data": {
      "image/png": "[encoded data removed]",
      "text/plain": [
       "<Figure size 432x288 with 1 Axes>"
      ]
     },
     "metadata": {
      "needs_background": "light"
     },
     "output_type": "display_data"
    }
   ],
   "source": [
    "print(dima.groupby(dima['datetime'].dt.hour).mean())\n",
    "dima.groupby(dima['datetime'].dt.hour).mean().plot()"
   ]
  },
  {
   "cell_type": "code",
   "execution_count": 26,
   "metadata": {},
   "outputs": [
    {
     "data": {
      "text/html": [
       "<div>\n",
       "<style scoped>\n",
       "    .dataframe tbody tr th:only-of-type {\n",
       "        vertical-align: middle;\n",
       "    }\n",
       "\n",
       "    .dataframe tbody tr th {\n",
       "        vertical-align: top;\n",
       "    }\n",
       "\n",
       "    .dataframe thead th {\n",
       "        text-align: right;\n",
       "    }\n",
       "</style>\n",
       "<table border=\"1\" class=\"dataframe\">\n",
       "  <thead>\n",
       "    <tr style=\"text-align: right;\">\n",
       "      <th></th>\n",
       "      <th>datetime</th>\n",
       "      <th>SYS</th>\n",
       "      <th>DIA</th>\n",
       "      <th>pulse</th>\n",
       "      <th>PP</th>\n",
       "      <th>time</th>\n",
       "    </tr>\n",
       "  </thead>\n",
       "  <tbody>\n",
       "    <tr>\n",
       "      <th>0</th>\n",
       "      <td>2018-04-29 08:57:00</td>\n",
       "      <td>136</td>\n",
       "      <td>92</td>\n",
       "      <td>87</td>\n",
       "      <td>44</td>\n",
       "      <td>08:57:00</td>\n",
       "    </tr>\n",
       "    <tr>\n",
       "      <th>1</th>\n",
       "      <td>2018-03-25 08:08:00</td>\n",
       "      <td>119</td>\n",
       "      <td>90</td>\n",
       "      <td>67</td>\n",
       "      <td>29</td>\n",
       "      <td>08:08:00</td>\n",
       "    </tr>\n",
       "    <tr>\n",
       "      <th>2</th>\n",
       "      <td>2018-03-25 08:08:00</td>\n",
       "      <td>126</td>\n",
       "      <td>93</td>\n",
       "      <td>66</td>\n",
       "      <td>33</td>\n",
       "      <td>08:08:00</td>\n",
       "    </tr>\n",
       "    <tr>\n",
       "      <th>3</th>\n",
       "      <td>2018-03-23 10:45:00</td>\n",
       "      <td>131</td>\n",
       "      <td>92</td>\n",
       "      <td>77</td>\n",
       "      <td>39</td>\n",
       "      <td>10:45:00</td>\n",
       "    </tr>\n",
       "    <tr>\n",
       "      <th>4</th>\n",
       "      <td>2018-03-21 11:45:00</td>\n",
       "      <td>123</td>\n",
       "      <td>92</td>\n",
       "      <td>73</td>\n",
       "      <td>31</td>\n",
       "      <td>11:45:00</td>\n",
       "    </tr>\n",
       "    <tr>\n",
       "      <th>5</th>\n",
       "      <td>2018-03-21 10:49:00</td>\n",
       "      <td>126</td>\n",
       "      <td>96</td>\n",
       "      <td>80</td>\n",
       "      <td>30</td>\n",
       "      <td>10:49:00</td>\n",
       "    </tr>\n",
       "    <tr>\n",
       "      <th>6</th>\n",
       "      <td>2018-03-21 08:55:00</td>\n",
       "      <td>117</td>\n",
       "      <td>89</td>\n",
       "      <td>75</td>\n",
       "      <td>28</td>\n",
       "      <td>08:55:00</td>\n",
       "    </tr>\n",
       "    <tr>\n",
       "      <th>...</th>\n",
       "      <td>...</td>\n",
       "      <td>...</td>\n",
       "      <td>...</td>\n",
       "      <td>...</td>\n",
       "      <td>...</td>\n",
       "      <td>...</td>\n",
       "    </tr>\n",
       "    <tr>\n",
       "      <th>52</th>\n",
       "      <td>2018-03-09 23:14:00</td>\n",
       "      <td>125</td>\n",
       "      <td>89</td>\n",
       "      <td>70</td>\n",
       "      <td>36</td>\n",
       "      <td>23:14:00</td>\n",
       "    </tr>\n",
       "    <tr>\n",
       "      <th>53</th>\n",
       "      <td>2018-03-09 23:13:00</td>\n",
       "      <td>126</td>\n",
       "      <td>89</td>\n",
       "      <td>69</td>\n",
       "      <td>37</td>\n",
       "      <td>23:13:00</td>\n",
       "    </tr>\n",
       "    <tr>\n",
       "      <th>54</th>\n",
       "      <td>2018-03-09 20:47:00</td>\n",
       "      <td>120</td>\n",
       "      <td>84</td>\n",
       "      <td>79</td>\n",
       "      <td>36</td>\n",
       "      <td>20:47:00</td>\n",
       "    </tr>\n",
       "    <tr>\n",
       "      <th>55</th>\n",
       "      <td>2018-03-09 20:47:00</td>\n",
       "      <td>124</td>\n",
       "      <td>82</td>\n",
       "      <td>80</td>\n",
       "      <td>42</td>\n",
       "      <td>20:47:00</td>\n",
       "    </tr>\n",
       "    <tr>\n",
       "      <th>56</th>\n",
       "      <td>2018-03-09 07:47:00</td>\n",
       "      <td>122</td>\n",
       "      <td>83</td>\n",
       "      <td>75</td>\n",
       "      <td>39</td>\n",
       "      <td>07:47:00</td>\n",
       "    </tr>\n",
       "    <tr>\n",
       "      <th>57</th>\n",
       "      <td>2018-03-08 18:40:00</td>\n",
       "      <td>115</td>\n",
       "      <td>80</td>\n",
       "      <td>78</td>\n",
       "      <td>35</td>\n",
       "      <td>18:40:00</td>\n",
       "    </tr>\n",
       "    <tr>\n",
       "      <th>58</th>\n",
       "      <td>2018-03-08 18:39:00</td>\n",
       "      <td>111</td>\n",
       "      <td>74</td>\n",
       "      <td>97</td>\n",
       "      <td>37</td>\n",
       "      <td>18:39:00</td>\n",
       "    </tr>\n",
       "  </tbody>\n",
       "</table>\n",
       "<p>59 rows × 6 columns</p>\n",
       "</div>"
      ],
      "text/plain": [
       "              datetime  SYS  DIA  pulse  PP      time\n",
       "0  2018-04-29 08:57:00  136   92     87  44  08:57:00\n",
       "1  2018-03-25 08:08:00  119   90     67  29  08:08:00\n",
       "2  2018-03-25 08:08:00  126   93     66  33  08:08:00\n",
       "3  2018-03-23 10:45:00  131   92     77  39  10:45:00\n",
       "4  2018-03-21 11:45:00  123   92     73  31  11:45:00\n",
       "5  2018-03-21 10:49:00  126   96     80  30  10:49:00\n",
       "6  2018-03-21 08:55:00  117   89     75  28  08:55:00\n",
       "..                 ...  ...  ...    ...  ..       ...\n",
       "52 2018-03-09 23:14:00  125   89     70  36  23:14:00\n",
       "53 2018-03-09 23:13:00  126   89     69  37  23:13:00\n",
       "54 2018-03-09 20:47:00  120   84     79  36  20:47:00\n",
       "55 2018-03-09 20:47:00  124   82     80  42  20:47:00\n",
       "56 2018-03-09 07:47:00  122   83     75  39  07:47:00\n",
       "57 2018-03-08 18:40:00  115   80     78  35  18:40:00\n",
       "58 2018-03-08 18:39:00  111   74     97  37  18:39:00\n",
       "\n",
       "[59 rows x 6 columns]"
      ]
     },
     "execution_count": 26,
     "metadata": {},
     "output_type": "execute_result"
    }
   ],
   "source": [
    "dima['time'] = dima.datetime.apply(lambda x: x.time())\n",
    "dima"
   ]
  },
  {
   "cell_type": "code",
   "execution_count": 27,
   "metadata": {},
   "outputs": [],
   "source": [
    "dima.index = dima.datetime\n",
    "#dima.asfreq('1H')"
   ]
  },
  {
   "cell_type": "code",
   "execution_count": 28,
   "metadata": {},
   "outputs": [
    {
     "data": {
      "text/html": [
       "<div>\n",
       "<style scoped>\n",
       "    .dataframe tbody tr th:only-of-type {\n",
       "        vertical-align: middle;\n",
       "    }\n",
       "\n",
       "    .dataframe tbody tr th {\n",
       "        vertical-align: top;\n",
       "    }\n",
       "\n",
       "    .dataframe thead th {\n",
       "        text-align: right;\n",
       "    }\n",
       "</style>\n",
       "<table border=\"1\" class=\"dataframe\">\n",
       "  <thead>\n",
       "    <tr style=\"text-align: right;\">\n",
       "      <th></th>\n",
       "      <th>SYS</th>\n",
       "      <th>DIA</th>\n",
       "      <th>pulse</th>\n",
       "      <th>PP</th>\n",
       "    </tr>\n",
       "    <tr>\n",
       "      <th>datetime</th>\n",
       "      <th></th>\n",
       "      <th></th>\n",
       "      <th></th>\n",
       "      <th></th>\n",
       "    </tr>\n",
       "  </thead>\n",
       "  <tbody>\n",
       "    <tr>\n",
       "      <th>2018-03-08</th>\n",
       "      <td>113.000000</td>\n",
       "      <td>77.000000</td>\n",
       "      <td>87.500000</td>\n",
       "      <td>36.0</td>\n",
       "    </tr>\n",
       "    <tr>\n",
       "      <th>2018-03-09</th>\n",
       "      <td>122.000000</td>\n",
       "      <td>83.000000</td>\n",
       "      <td>75.000000</td>\n",
       "      <td>39.0</td>\n",
       "    </tr>\n",
       "    <tr>\n",
       "      <th>2018-03-09</th>\n",
       "      <td>122.000000</td>\n",
       "      <td>83.000000</td>\n",
       "      <td>79.500000</td>\n",
       "      <td>39.0</td>\n",
       "    </tr>\n",
       "    <tr>\n",
       "      <th>2018-03-09</th>\n",
       "      <td>125.500000</td>\n",
       "      <td>89.000000</td>\n",
       "      <td>69.500000</td>\n",
       "      <td>36.5</td>\n",
       "    </tr>\n",
       "    <tr>\n",
       "      <th>2018-03-10</th>\n",
       "      <td>127.000000</td>\n",
       "      <td>86.000000</td>\n",
       "      <td>73.000000</td>\n",
       "      <td>41.0</td>\n",
       "    </tr>\n",
       "    <tr>\n",
       "      <th>2018-03-11</th>\n",
       "      <td>129.333333</td>\n",
       "      <td>89.333333</td>\n",
       "      <td>91.333333</td>\n",
       "      <td>40.0</td>\n",
       "    </tr>\n",
       "    <tr>\n",
       "      <th>2018-03-13</th>\n",
       "      <td>136.000000</td>\n",
       "      <td>90.000000</td>\n",
       "      <td>74.000000</td>\n",
       "      <td>46.0</td>\n",
       "    </tr>\n",
       "    <tr>\n",
       "      <th>...</th>\n",
       "      <td>...</td>\n",
       "      <td>...</td>\n",
       "      <td>...</td>\n",
       "      <td>...</td>\n",
       "    </tr>\n",
       "    <tr>\n",
       "      <th>2018-03-20</th>\n",
       "      <td>132.333333</td>\n",
       "      <td>96.333333</td>\n",
       "      <td>82.000000</td>\n",
       "      <td>36.0</td>\n",
       "    </tr>\n",
       "    <tr>\n",
       "      <th>2018-03-21</th>\n",
       "      <td>117.000000</td>\n",
       "      <td>89.000000</td>\n",
       "      <td>75.000000</td>\n",
       "      <td>28.0</td>\n",
       "    </tr>\n",
       "    <tr>\n",
       "      <th>2018-03-21</th>\n",
       "      <td>126.000000</td>\n",
       "      <td>96.000000</td>\n",
       "      <td>80.000000</td>\n",
       "      <td>30.0</td>\n",
       "    </tr>\n",
       "    <tr>\n",
       "      <th>2018-03-21</th>\n",
       "      <td>123.000000</td>\n",
       "      <td>92.000000</td>\n",
       "      <td>73.000000</td>\n",
       "      <td>31.0</td>\n",
       "    </tr>\n",
       "    <tr>\n",
       "      <th>2018-03-23</th>\n",
       "      <td>131.000000</td>\n",
       "      <td>92.000000</td>\n",
       "      <td>77.000000</td>\n",
       "      <td>39.0</td>\n",
       "    </tr>\n",
       "    <tr>\n",
       "      <th>2018-03-25</th>\n",
       "      <td>122.500000</td>\n",
       "      <td>91.500000</td>\n",
       "      <td>66.500000</td>\n",
       "      <td>31.0</td>\n",
       "    </tr>\n",
       "    <tr>\n",
       "      <th>2018-04-29</th>\n",
       "      <td>136.000000</td>\n",
       "      <td>92.000000</td>\n",
       "      <td>87.000000</td>\n",
       "      <td>44.0</td>\n",
       "    </tr>\n",
       "  </tbody>\n",
       "</table>\n",
       "<p>34 rows × 4 columns</p>\n",
       "</div>"
      ],
      "text/plain": [
       "                   SYS        DIA      pulse    PP\n",
       "datetime                                          \n",
       "2018-03-08  113.000000  77.000000  87.500000  36.0\n",
       "2018-03-09  122.000000  83.000000  75.000000  39.0\n",
       "2018-03-09  122.000000  83.000000  79.500000  39.0\n",
       "2018-03-09  125.500000  89.000000  69.500000  36.5\n",
       "2018-03-10  127.000000  86.000000  73.000000  41.0\n",
       "2018-03-11  129.333333  89.333333  91.333333  40.0\n",
       "2018-03-13  136.000000  90.000000  74.000000  46.0\n",
       "...                ...        ...        ...   ...\n",
       "2018-03-20  132.333333  96.333333  82.000000  36.0\n",
       "2018-03-21  117.000000  89.000000  75.000000  28.0\n",
       "2018-03-21  126.000000  96.000000  80.000000  30.0\n",
       "2018-03-21  123.000000  92.000000  73.000000  31.0\n",
       "2018-03-23  131.000000  92.000000  77.000000  39.0\n",
       "2018-03-25  122.500000  91.500000  66.500000  31.0\n",
       "2018-04-29  136.000000  92.000000  87.000000  44.0\n",
       "\n",
       "[34 rows x 4 columns]"
      ]
     },
     "execution_count": 28,
     "metadata": {},
     "output_type": "execute_result"
    }
   ],
   "source": [
    "by_h = dima.groupby([dima.datetime.dt.to_period('H')]).mean()\n",
    "by_h.asfreq('D')"
   ]
  },
  {
   "cell_type": "code",
   "execution_count": 29,
   "metadata": {},
   "outputs": [
    {
     "data": {
      "text/plain": [
       "(SYS      9.024306\n",
       " DIA      4.936075\n",
       " pulse    8.363956\n",
       " PP       9.107863\n",
       " dtype: float64, SYS      128.949153\n",
       " DIA       89.355932\n",
       " pulse     77.898305\n",
       " PP        39.593220\n",
       " dtype: float64)"
      ]
     },
     "execution_count": 29,
     "metadata": {},
     "output_type": "execute_result"
    }
   ],
   "source": [
    "dima.std(ddof=0), dima.mean()"
   ]
  },
  {
   "cell_type": "code",
   "execution_count": 30,
   "metadata": {},
   "outputs": [
    {
     "data": {
      "text/plain": [
       "(4.936075130133138, 9.024305652079532)"
      ]
     },
     "execution_count": 30,
     "metadata": {},
     "output_type": "execute_result"
    }
   ],
   "source": [
    "dima.DIA.std(ddof=0), dima.SYS.std(ddof=0), "
   ]
  },
  {
   "cell_type": "code",
   "execution_count": 31,
   "metadata": {},
   "outputs": [
    {
     "data": {
      "text/plain": [
       "(4.978445650880669, 9.101768923967208)"
      ]
     },
     "execution_count": 31,
     "metadata": {},
     "output_type": "execute_result"
    }
   ],
   "source": [
    "dima.DIA.std(ddof=1), dima.SYS.std(ddof=1)"
   ]
  },
  {
   "cell_type": "code",
   "execution_count": 35,
   "metadata": {},
   "outputs": [],
   "source": [
    "# dima['DIAr'] = dima.DIA.rolling(window=3).mean()\n",
    "# dima['SYSr'] = dima.SYS.rolling(window=3).mean()\n",
    "# dima.plot()"
   ]
  },
  {
   "cell_type": "code",
   "execution_count": 33,
   "metadata": {},
   "outputs": [
    {
     "data": {
      "image/png": "[encoded data removed]",
      "text/plain": [
       "<Figure size 720x576 with 1 Axes>"
      ]
     },
     "metadata": {
      "needs_background": "light"
     },
     "output_type": "display_data"
    }
   ],
   "source": [
    "plt.figure(figsize=(10,8))\n",
    "plt.scatter(dima.DIA, dima.SYS)\n",
    "\n",
    "plt.title('Blood pressure spread')\n",
    "plt.xlabel('DIA')\n",
    "plt.ylabel('SYS')\n",
    "plt.legend(loc='upper right')\n",
    "# set the figure boundaries\n",
    "plt.xlim([min(dima.DIA)-10, max(dima.DIA)+10])\n",
    "plt.ylim([min(dima.SYS)-10, max(dima.SYS)+10])\n",
    "\n",
    "plt.show()"
   ]
  },
  {
   "cell_type": "code",
   "execution_count": 34,
   "metadata": {},
   "outputs": [
    {
     "data": {
      "image/png": "[encoded data removed]",
      "text/plain": [
       "<Figure size 432x432 with 3 Axes>"
      ]
     },
     "metadata": {
      "needs_background": "light"
     },
     "output_type": "display_data"
    }
   ],
   "source": [
    "g = sns.jointplot(x=\"DIA\", y=\"SYS\", data=dima, kind=\"kde\")\n",
    "g.plot_joint(plt.scatter, c=\"w\", s=30, linewidth=1, marker=\"+\")\n",
    "g.ax_joint.collections[0].set_alpha(0)\n",
    "g.set_axis_labels(\"$X$\", \"$Y$\");"
   ]
  },
  {
   "cell_type": "code",
   "execution_count": 36,
   "metadata": {},
   "outputs": [
    {
     "data": {
      "text/plain": [
       "<Figure size 720x576 with 0 Axes>"
      ]
     },
     "metadata": {},
     "output_type": "display_data"
    },
    {
     "data": {
      "image/png": "[encoded data removed]",
      "text/plain": [
       "<Figure size 432x288 with 1 Axes>"
      ]
     },
     "metadata": {
      "needs_background": "light"
     },
     "output_type": "display_data"
    }
   ],
   "source": [
    "fig = plt.figure(figsize=(10,8))\n",
    "ax = dima.plot.bar(x='datetime',\n",
    "              y='SYS', stacked=True, secondary_y='DIA', align='center')\n",
    "#ax.bar(dima.datetime, dima.SYS, 0.35, bottom=dima.DIA)\n",
    "#ax.xaxis_date()\n",
    "plt.show()"
   ]
  },
  {
   "cell_type": "code",
   "execution_count": 37,
   "metadata": {},
   "outputs": [
    {
     "data": {
      "image/png": "[encoded data removed]",
      "text/plain": [
       "<Figure size 1440x576 with 1 Axes>"
      ]
     },
     "metadata": {
      "needs_background": "light"
     },
     "output_type": "display_data"
    }
   ],
   "source": [
    "dima_dates = dima.datetime.tolist()\n",
    "dima_dates_x = range(len(dima_dates))\n",
    "dima_SYS_height = dima.SYS - dima.DIA\n",
    "\n",
    "fig = plt.figure(figsize=(20,8))#, dpi=370)\n",
    "plt.bar(dima_dates_x, \n",
    "        height = dima_SYS_height, \n",
    "        width = 0.5, \n",
    "        bottom = dima.DIA, zorder=2, color='#202020')\n",
    "plt.grid(visible=False, axis='x')\n",
    "plt.grid(visible=False, color='#3A2727', axis='y')\n",
    "plt.xticks(dima_dates_x, dima_dates)\n",
    "plt.xlabel('Day')\n",
    "plt.ylabel('DIA-SYS')\n",
    "#plt.ylim([min(dima.DIA)-10, max(dima.SYS)+10])\n",
    "plt.ylim(50, 170)\n",
    "\n",
    "alpha = 1\n",
    "zorder = 1\n",
    "\n",
    "colors = ['#2ca02c', '#B2A81F', '#B2731F', '#B24C1F', '#B22F1F', '#B24C1F']\n",
    "colors2 = sns.color_palette(\"hls\", 19, 0.7).as_hex()[0:5]\n",
    "colors2.reverse()\n",
    "\n",
    "# optimal\n",
    "plt.axhspan(60, 120, facecolor=colors2[0], alpha=alpha, zorder=zorder, fill=True)\n",
    "\n",
    "# normal\n",
    "plt.axhspan(120, 130, facecolor=colors2[1], alpha=alpha, zorder=zorder, fill=True)\n",
    "#plt.axhspan(80, 85, facecolor=colors2[1], alpha=alpha, zorder=zorder, fill=True)\n",
    "\n",
    "# high normal\n",
    "plt.axhspan(130, 140, facecolor=colors2[2], alpha=alpha, zorder=zorder, fill=True)\n",
    "plt.axhspan(85, 90, facecolor=colors2[2], alpha=alpha, zorder=zorder, fill=True)\n",
    "\n",
    "# Grade 1 hypertension\n",
    "plt.axhspan(140, 160, facecolor=colors2[3], alpha=alpha, zorder=zorder, fill=True)\n",
    "plt.axhspan(90, 100, facecolor=colors2[3], alpha=alpha, zorder=zorder, fill=True)\n",
    "\n",
    "# Grade 2 hypertension\n",
    "plt.axhspan(160, 180, facecolor=colors2[4], alpha=alpha, zorder=zorder, fill=True)\n",
    "plt.axhspan(100, 110, facecolor=colors2[4], alpha=alpha, zorder=zorder, fill=True)\n",
    "\n",
    "# Grade 3 hypertension\n",
    "plt.axhspan(180, 190, facecolor=colors2[4], alpha=alpha, zorder=zorder, fill=True)\n",
    "plt.axhspan(110, 110, facecolor=colors2[4], alpha=alpha, zorder=zorder, fill=True)\n",
    "\n",
    "plt.show()"
   ]
  },
  {
   "cell_type": "code",
   "execution_count": 38,
   "metadata": {},
   "outputs": [
    {
     "data": {
      "image/png": "[encoded data removed]",
      "text/plain": [
       "<Figure size 1440x576 with 2 Axes>"
      ]
     },
     "metadata": {
      "needs_background": "light"
     },
     "output_type": "display_data"
    }
   ],
   "source": [
    "dima_dates = dima.datetime.tolist()\n",
    "dima_dates_x = range(len(dima_dates))\n",
    "dima_SYS_height = dima.SYS - dima.DIA\n",
    "\n",
    "alpha = 1\n",
    "zorder = 1\n",
    "colors = ['#2ca02c', '#B2A81F', '#B2731F', '#B24C1F', '#B22F1F', '#B24C1F']\n",
    "colors_hls = sns.color_palette(\"hls\", 19, 0.7).as_hex()\n",
    "colors2 = colors_hls[0:5]\n",
    "colors2.reverse()\n",
    "#sns.palplot(colors2)\n",
    "bar_color = sns.set_hls_values(colors_hls[10], s=0.3, l=0.3)\n",
    "\n",
    "fig, axes = plt.subplots(2, 1, figsize=(20, 8))\n",
    "#fig = plt.figure(figsize=(20,8))#, dpi=370)\n",
    "axes[0].bar(dima_dates_x, \n",
    "        height = dima.SYS, \n",
    "        width = 0.5,         \n",
    "        zorder=2, \n",
    "        color=bar_color)\n",
    "axes[0].grid(visible=False, axis='x')\n",
    "axes[0].grid(visible=False, color='#3A2727', axis='y')\n",
    "#axes[0].xticks(dima_dates_x, dima_dates)\n",
    "#axes[0].xlabel('Day')\n",
    "#axes[0].ylabel('DIA-SYS')\n",
    "#plt.ylim([min(dima.DIA)-10, max(dima.SYS)+10])\n",
    "axes[0].set_ylim(105, 170)\n",
    "\n",
    "# optimal\n",
    "axes[0].axhspan(60, 120, facecolor=colors2[0], alpha=alpha, zorder=zorder, fill=True)\n",
    "# normal\n",
    "axes[0].axhspan(120, 130, facecolor=colors2[1], alpha=alpha, zorder=zorder, fill=True)\n",
    "#plt.axhspan(80, 85, facecolor='#B2A81F', alpha=alpha, zorder=zorder, fill=True)\n",
    "# high normal\n",
    "axes[0].axhspan(130, 140, facecolor=colors2[2], alpha=alpha, zorder=zorder, fill=True)\n",
    "# Grade 1 hypertension\n",
    "axes[0].axhspan(140, 160, facecolor=colors2[3], alpha=alpha, zorder=zorder, fill=True)\n",
    "# Grade 2 hypertension\n",
    "axes[0].axhspan(160, 180, facecolor=colors2[4], alpha=alpha, zorder=zorder, fill=True)\n",
    "# Grade 3 hypertension\n",
    "axes[0].axhspan(180, 190, facecolor=colors2[4], alpha=alpha, zorder=zorder, fill=True)\n",
    "\n",
    "\n",
    "axes[1].bar(dima_dates_x, \n",
    "        height = dima.DIA, \n",
    "        width = 0.5,         \n",
    "        zorder=2, \n",
    "        color=bar_color)\n",
    "axes[1].grid(visible=False, axis='x')\n",
    "#axes[1].grid(visible=True, color='#3A2727', axis='y')\n",
    "#axes[1].xticks(dima_dates_x, dima_dates)\n",
    "#axes[1].xlabel('Day')\n",
    "#axes[1].ylabel('DIA-SYS')\n",
    "#plt.ylim([min(dima.DIA)-10, max(dima.SYS)+10])\n",
    "axes[1].set_ylim(100, 70)\n",
    "\n",
    "# optimal\n",
    "\n",
    "axes[1].axhspan(60, 120, facecolor=colors2[0], alpha=alpha, zorder=zorder, fill=True)\n",
    "axes[1].axhspan(70, 80, facecolor=colors2[1], alpha=alpha, zorder=zorder, fill=True)\n",
    "axes[1].axhspan(85, 90, facecolor=colors2[2], alpha=alpha, zorder=zorder, fill=True)\n",
    "axes[1].axhspan(90, 100, facecolor=colors2[3], alpha=alpha, zorder=zorder, fill=True)\n",
    "axes[1].axhspan(100, 110, facecolor=colors2[4], alpha=alpha, zorder=zorder, fill=True)\n",
    "axes[1].axhspan(110, 110, facecolor=colors2[4], alpha=alpha, zorder=zorder, fill=True)\n",
    "\n",
    "plt.show()"
   ]
  },
  {
   "cell_type": "code",
   "execution_count": 39,
   "metadata": {},
   "outputs": [
    {
     "data": {
      "image/png": "[encoded data removed]",
      "text/plain": [
       "<Figure size 1440x576 with 2 Axes>"
      ]
     },
     "metadata": {
      "needs_background": "light"
     },
     "output_type": "display_data"
    }
   ],
   "source": [
    "dima_dates = dima.datetime.tolist()\n",
    "dima_dates_x = range(len(dima_dates))\n",
    "dima_SYS_height = dima.SYS - dima.DIA\n",
    "\n",
    "alpha = 1\n",
    "zorder = 1\n",
    "colors = ['#2ca02c', '#B2A81F', '#B2731F', '#B24C1F', '#B22F1F', '#B24C1F']\n",
    "colors_hls = sns.color_palette(\"hls\", 19, 0.7).as_hex()\n",
    "colors2 = colors_hls[0:5]\n",
    "colors2.reverse()\n",
    "#sns.palplot(colors2)\n",
    "bar_color = sns.set_hls_values(colors_hls[10], s=0.3, l=0.3)\n",
    "\n",
    "fig, axes = plt.subplots(2, 1, figsize=(20, 8))\n",
    "plt.subplots_adjust(wspace=0.01, hspace=0.03);\n",
    "\n",
    "#fig = plt.figure(figsize=(20,8))#, dpi=370)\n",
    "axes[0].bar(dima_dates_x, \n",
    "        height = dima.SYS, \n",
    "        width = 0.1,         \n",
    "        zorder=2, \n",
    "        color=bar_color)\n",
    "axes[0].plot(dima_dates_x, \n",
    "        dima.SYS, \n",
    "        \".\",\n",
    "        markersize=22,\n",
    "        zorder=2, \n",
    "        color=bar_color)\n",
    "axes[0].grid(visible=False, axis='x')\n",
    "axes[0].grid(visible=False, color='#3A2727', axis='y')\n",
    "plt.xticks(dima_dates_x, [])\n",
    "# for tick in plt.yaxis.get_major_ticks():\n",
    "#     tick.label2.set_color('green')\n",
    "    \n",
    "#plt.xlabel('Day')\n",
    "plt.ylabel('DIA-SYS')\n",
    "#plt.ylim([min(dima.DIA)-10, max(dima.SYS)+10])\n",
    "axes[0].set_ylim(105, 170)\n",
    "\n",
    "# optimal\n",
    "axes[0].axhspan(60, 120, facecolor=colors2[0], alpha=alpha, zorder=zorder, fill=True)\n",
    "# normal\n",
    "axes[0].axhspan(120, 130, facecolor=colors2[1], alpha=alpha, zorder=zorder, fill=True)\n",
    "#plt.axhspan(80, 85, facecolor='#B2A81F', alpha=alpha, zorder=zorder, fill=True)\n",
    "# high normal\n",
    "axes[0].axhspan(130, 140, facecolor=colors2[2], alpha=alpha, zorder=zorder, fill=True)\n",
    "# Grade 1 hypertension\n",
    "axes[0].axhspan(140, 160, facecolor=colors2[3], alpha=alpha, zorder=zorder, fill=True)\n",
    "# Grade 2 hypertension\n",
    "axes[0].axhspan(160, 180, facecolor=colors2[4], alpha=alpha, zorder=zorder, fill=True)\n",
    "# Grade 3 hypertension\n",
    "axes[0].axhspan(180, 190, facecolor=colors2[4], alpha=alpha, zorder=zorder, fill=True)\n",
    "\n",
    "\n",
    "axes[1].bar(dima_dates_x, \n",
    "        height = dima.DIA, \n",
    "        width = 0.1,         \n",
    "        zorder=2, \n",
    "        color=bar_color)\n",
    "axes[1].plot(dima_dates_x, \n",
    "        dima.DIA, \n",
    "        \".\",        \n",
    "        markersize=22,\n",
    "        zorder=2, \n",
    "        color=bar_color)\n",
    "axes[1].grid(visible=False, axis='x')\n",
    "plt.grid(visible=True, color='#3A2727', axis='y')\n",
    "plt.xticks(dima_dates_x, [])\n",
    "#plt.xlabel('Day')\n",
    "plt.ylabel('DIA-SYS')\n",
    "#plt.ylim([min(dima.DIA)-10, max(dima.SYS)+10])\n",
    "axes[1].set_ylim(100, 70)\n",
    "\n",
    "# optimal\n",
    "\n",
    "axes[1].axhspan(60, 120, facecolor=colors2[0], alpha=alpha, zorder=zorder, fill=True)\n",
    "axes[1].axhspan(70, 80, facecolor=colors2[1], alpha=alpha, zorder=zorder, fill=True)\n",
    "axes[1].axhspan(85, 90, facecolor=colors2[2], alpha=alpha, zorder=zorder, fill=True)\n",
    "axes[1].axhspan(90, 100, facecolor=colors2[3], alpha=alpha, zorder=zorder, fill=True)\n",
    "axes[1].axhspan(100, 110, facecolor=colors2[4], alpha=alpha, zorder=zorder, fill=True)\n",
    "axes[1].axhspan(110, 110, facecolor=colors2[4], alpha=alpha, zorder=zorder, fill=True)\n",
    "\n",
    "plt.show()"
   ]
  },
  {
   "cell_type": "code",
   "execution_count": null,
   "metadata": {},
   "outputs": [],
   "source": []
  },
  {
   "cell_type": "code",
   "execution_count": 17,
   "metadata": {},
   "outputs": [],
   "source": [
    "#dima.SYS.apply(lambda x: x.div(x.mean()))"
   ]
  },
  {
   "cell_type": "code",
   "execution_count": 40,
   "metadata": {},
   "outputs": [
    {
     "data": {
      "text/plain": [
       "<matplotlib.axes._subplots.AxesSubplot at 0x11e1bdba8>"
      ]
     },
     "execution_count": 40,
     "metadata": {},
     "output_type": "execute_result"
    },
    {
     "data": {
      "image/png": "[encoded data removed]",
      "text/plain": [
       "<Figure size 864x432 with 2 Axes>"
      ]
     },
     "metadata": {
      "needs_background": "light"
     },
     "output_type": "display_data"
    }
   ],
   "source": [
    "HEALTHY_SYS = 122\n",
    "HYPER_SYS = 140\n",
    "HEALTHY_DIA = 71\n",
    "HYPER_DIA = 95 #?\n",
    "\n",
    "healthy_sys = sc.stats.norm.rvs(HEALTHY_SYS, 9, size=100000)\n",
    "hyper_sys = sc.stats.norm.rvs(HYPER_SYS, 6, size=100000)\n",
    "healthy_dia = sc.stats.norm.rvs(HEALTHY_DIA, 9, size=100000)\n",
    "hyper_dia = sc.stats.norm.rvs(HYPER_DIA, 6, size=100000)\n",
    "\n",
    "fig, axes = plt.subplots(1, 2, figsize=(12, 6))\n",
    "\n",
    "sns.kdeplot(healthy_sys, ax=axes[0])\n",
    "sns.kdeplot(hyper_sys, ax=axes[0])\n",
    "axes[0].axvline(122)\n",
    "sns.kdeplot(dima.SYS, ax=axes[0])\n",
    "\n",
    "sns.kdeplot(healthy_dia, ax=axes[1])\n",
    "sns.kdeplot(hyper_dia, ax=axes[1])\n",
    "axes[1].axvline(71)\n",
    "sns.kdeplot(dima.DIA, ax=axes[1])\n"
   ]
  },
  {
   "cell_type": "code",
   "execution_count": 41,
   "metadata": {},
   "outputs": [
    {
     "data": {
      "text/plain": [
       "0.1595"
      ]
     },
     "execution_count": 41,
     "metadata": {},
     "output_type": "execute_result"
    }
   ],
   "source": [
    "# P-value calculation under HEALTY hypothesis\n",
    "np.sum(healthy_dia >= 80) / len(healthy_dia)"
   ]
  },
  {
   "cell_type": "code",
   "execution_count": 42,
   "metadata": {},
   "outputs": [
    {
     "data": {
      "text/plain": [
       "0.05084745762711865"
      ]
     },
     "execution_count": 42,
     "metadata": {},
     "output_type": "execute_result"
    }
   ],
   "source": [
    "# P-value calculation under hypertension hypothesis\n",
    "np.sum(dima.DIA <= 80) / len(dima.DIA)"
   ]
  }
 ],
 "metadata": {
  "kernelspec": {
   "display_name": "Python 3",
   "language": "python",
   "name": "python3"
  },
  "language_info": {
   "codemirror_mode": {
    "name": "ipython",
    "version": 3
   },
   "file_extension": ".py",
   "mimetype": "text/x-python",
   "name": "python",
   "nbconvert_exporter": "python",
   "pygments_lexer": "ipython3",
   "version": "3.7.0"
  }
 },
 "nbformat": 4,
 "nbformat_minor": 2
}
